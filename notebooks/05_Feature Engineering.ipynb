{
 "cells": [
  {
   "cell_type": "markdown",
   "metadata": {},
   "source": [
    "## 05 Feature Engineering \n",
    "\n",
    "This notebook contains feature engineering and preliminary unsupervised model analyis using Principal Component Analysis"
   ]
  },
  {
   "cell_type": "code",
   "execution_count": 10,
   "metadata": {},
   "outputs": [],
   "source": [
    "#Import Libraries\n",
    "import pandas as pd\n",
    "import numpy as np\n",
    "from sklearn.preprocessing import StandardScaler\n",
    "from sklearn.decomposition import PCA\n",
    "from sklearn.model_selection import train_test_split\n",
    "from sklearn.linear_model import LogisticRegressionCV\n",
    "import matplotlib.pyplot as plt\n",
    "\n",
    "import os\n",
    "\n",
    "#Get current working directory (.\\\\notebooks) -----HR\n",
    "cwd = os.getcwd()\n",
    "\n",
    "#Get parent folder to access (.\\\\Data) -----HR\n",
    "parent = os.path.dirname(cwd)\n",
    "\n",
    "#Get file path to load into environment -----HR\n",
    "file_path = os.path.join(parent,\"Data\",\"stock_and_econ_cleaned.xlsx\")\n",
    "\n",
    "#Load data into environment using the file path variable with appropriate relative path -----HR\n",
    "stock_and_econ_cleaned = pd.read_excel(file_path)"
   ]
  },
  {
   "cell_type": "code",
   "execution_count": 11,
   "metadata": {},
   "outputs": [],
   "source": [
    "# Fill missing values with mean -----EP\n",
    "numeric_columns = stock_and_econ_cleaned.select_dtypes(include=[np.number]).columns\n",
    "stock_and_econ_cleaned[numeric_columns] = stock_and_econ_cleaned[numeric_columns].fillna(\n",
    "    stock_and_econ_cleaned[numeric_columns].mean()\n",
    ")\n"
   ]
  },
  {
   "cell_type": "code",
   "execution_count": 12,
   "metadata": {},
   "outputs": [],
   "source": [
    "# List of sector columns -----EP\n",
    "sector_columns = [\n",
    "    \"Sector_Electrical Utilities & IPPs\",\n",
    "    \"Sector_Food & Tobacco\",\n",
    "    \"Sector_Healthcare Equipment & Supplies\",\n",
    "    \"Sector_Hotels & Entertainment Services\",\n",
    "    \"Sector_Insurance\",\n",
    "    \"Sector_Investment Banking & Investment Services\",\n",
    "    \"Sector_Machinery, Equipment & Components\",\n",
    "    \"Sector_Media & Publishing\",\n",
    "    \"Sector_Oil & Gas\",\n",
    "    \"Sector_Other\",\n",
    "    \"Sector_Pharmaceuticals\",\n",
    "    \"Sector_Professional & Commercial Services\",\n",
    "    \"Sector_Residential & Commercial REIT\",\n",
    "    \"Sector_Semiconductors & Semiconductor Equipment\",\n",
    "    \"Sector_Software & IT Services\"\n",
    "]"
   ]
  },
  {
   "cell_type": "code",
   "execution_count": 13,
   "metadata": {},
   "outputs": [
    {
     "name": "stdout",
     "output_type": "stream",
     "text": [
      "Number of missing values: 0\n"
     ]
    }
   ],
   "source": [
    "# Check for remaining missing values -----EP\n",
    "print(f\"Number of missing values: {stock_and_econ_cleaned.isna().sum().sum()}\")\n",
    "\n",
    "# Create quarter features\n",
    "quarter_mapping = {\"Q1\": 1, \"Q2\": 2, \"Q3\": 3, \"Q4\": 4}\n",
    "stock_and_econ_cleaned['Quarter_Num'] = stock_and_econ_cleaned['Quarter'].map(quarter_mapping)\n",
    "stock_and_econ_cleaned['Quarter_sin'] = np.sin(2 * np.pi * stock_and_econ_cleaned['Quarter_Num'] / 4)\n",
    "stock_and_econ_cleaned['Quarter_cos'] = np.cos(2 * np.pi * stock_and_econ_cleaned['Quarter_Num'] / 4)\n",
    "\n",
    "# Create PE Category numeric mapping\n",
    "pe_mapping = {\n",
    "    \"Low\": 0,\n",
    "    \"Good\": 1,\n",
    "    \"High\": 2,\n",
    "    \"Craziness\": 3\n",
    "}\n",
    "stock_and_econ_cleaned['PE_Category_Num'] = stock_and_econ_cleaned['PE_Category'].map(pe_mapping).fillna(0)\n",
    "\n",
    "# Save updated data, commented out for redundancy\n",
    "#stock_and_econ_cleaned.to_excel(\"stock_and_econ_cleaned.xlsx\", index=False)"
   ]
  },
  {
   "cell_type": "code",
   "execution_count": null,
   "metadata": {},
   "outputs": [],
   "source": [
    "# PCA Analysis ----EP\n",
    "# Select numeric columns excluding Label\n",
    "pca_data = stock_and_econ_cleaned.select_dtypes(include=[np.number]).drop('Label', axis=1, errors='ignore')\n",
    "\n",
    "# Scale the data\n",
    "scaler = StandardScaler()\n",
    "pca_data_scaled = scaler.fit_transform(pca_data)\n",
    "\n",
    "# Perform PCA\n",
    "pca = PCA()\n",
    "pca_result = pca.fit_transform(pca_data_scaled)\n",
    "\n",
    "# Print PCA summary\n",
    "print(\"Explained variance ratio:\", pca.explained_variance_ratio_)\n",
    "print(\"Cumulative explained variance:\", np.cumsum(pca.explained_variance_ratio_))\n",
    "\n",
    "# Print column names\n",
    "print(\"\\nColumn names:\", stock_and_econ_cleaned.columns.tolist())"
   ]
  },
  {
   "cell_type": "code",
   "execution_count": null,
   "metadata": {},
   "outputs": [],
   "source": [
    "#Convert label to categorical for logistic regression and cross validation ----EP\n",
    "stock_and_econ_cleaned['Label'] = pd.Categorical(stock_and_econ_cleaned['Label'])\n",
    "\n",
    "# Split data into train and test sets\n",
    "X = stock_and_econ_cleaned.drop('Label', axis=1)\n",
    "y = stock_and_econ_cleaned['Label']\n",
    "\n",
    "# Convert categorical variables to dummy variables\n",
    "X = pd.get_dummies(X, drop_first=True)\n",
    "\n",
    "# Split the data\n",
    "X_train, X_test, y_train, y_test = train_test_split(\n",
    "    X, y, test_size=0.2, random_state=123\n",
    ")\n",
    "\n",
    "# Create the logistic regression model with elastic net\n",
    "logistic_cv = LogisticRegressionCV(\n",
    "    Cs=10,  \n",
    "    cv=5,   \n",
    "    penalty='elasticnet',\n",
    "    solver='saga',\n",
    "    l1_ratios=[0.5], \n",
    "    max_iter=1000\n",
    ")\n",
    "\n",
    "# Fit the model\n",
    "logistic_cv.fit(X_train, y_train)\n",
    "\n",
    "# Get the mean cross-validation scores\n",
    "mean_scores = logistic_cv.scores_[1].mean(axis=0) "
   ]
  },
  {
   "cell_type": "code",
   "execution_count": 14,
   "metadata": {},
   "outputs": [
    {
     "name": "stdout",
     "output_type": "stream",
     "text": [
      "Explained variance ratio: [0.13137052 0.11207575 0.08816925 0.08288735 0.06789401 0.06502454\n",
      " 0.06271706 0.05472141 0.04557713 0.04399119 0.04019389 0.03677957\n",
      " 0.02869247 0.0262735  0.02537909 0.02315029 0.01722386 0.01489905\n",
      " 0.01323674 0.01130241 0.00469403 0.00374689]\n",
      "Cumulative explained variance: [0.13137052 0.24344628 0.33161553 0.41450288 0.4823969  0.54742143\n",
      " 0.61013849 0.6648599  0.71043704 0.75442823 0.79462211 0.83140168\n",
      " 0.86009415 0.88636765 0.91174674 0.93489702 0.95212089 0.96701994\n",
      " 0.98025668 0.99155909 0.99625311 1.        ]\n",
      "\n",
      "Column names: ['Market Value (%)', 'P/E', 'P/CF', 'P/B', 'Debt/Equity', 'ROE', 'ROA', 'Profit Margin', 'Op Margin', 'FCF Gr', 'EBITDA Gr', 'Net Inc Gr', 'GDP CYOY Index', 'CPI YOY Index', 'VIX Index', 'Quarter', 'Year', 'Label', 'COVID_Period', 'Profit_Per_Leverage', 'PE_Category', 'Sector_Electrical Utilities & IPPs', 'Sector_Food & Tobacco', 'Sector_Healthcare Equipment & Supplies', 'Sector_Hotels & Entertainment Services', 'Sector_Insurance', 'Sector_Investment Banking & Investment Services', 'Sector_Machinery, Equipment & Components', 'Sector_Media & Publishing', 'Sector_Oil & Gas', 'Sector_Other', 'Sector_Pharmaceuticals', 'Sector_Professional & Commercial Services', 'Sector_Residential & Commercial REIT', 'Sector_Semiconductors & Semiconductor Equipment', 'Sector_Software & IT Services', 'Quarter_Num', 'Quarter_sin', 'Quarter_cos', 'PE_Category_Num']\n"
     ]
    },
    {
     "name": "stderr",
     "output_type": "stream",
     "text": [
      "c:\\Users\\Hayden Realmuto\\Documents\\GitHub\\team_lambda\\teamlambdavenv\\Lib\\site-packages\\sklearn\\linear_model\\_sag.py:348: ConvergenceWarning: The max_iter was reached which means the coef_ did not converge\n",
      "  warnings.warn(\n",
      "c:\\Users\\Hayden Realmuto\\Documents\\GitHub\\team_lambda\\teamlambdavenv\\Lib\\site-packages\\sklearn\\linear_model\\_sag.py:348: ConvergenceWarning: The max_iter was reached which means the coef_ did not converge\n",
      "  warnings.warn(\n",
      "c:\\Users\\Hayden Realmuto\\Documents\\GitHub\\team_lambda\\teamlambdavenv\\Lib\\site-packages\\sklearn\\linear_model\\_sag.py:348: ConvergenceWarning: The max_iter was reached which means the coef_ did not converge\n",
      "  warnings.warn(\n",
      "c:\\Users\\Hayden Realmuto\\Documents\\GitHub\\team_lambda\\teamlambdavenv\\Lib\\site-packages\\sklearn\\linear_model\\_sag.py:348: ConvergenceWarning: The max_iter was reached which means the coef_ did not converge\n",
      "  warnings.warn(\n",
      "c:\\Users\\Hayden Realmuto\\Documents\\GitHub\\team_lambda\\teamlambdavenv\\Lib\\site-packages\\sklearn\\linear_model\\_sag.py:348: ConvergenceWarning: The max_iter was reached which means the coef_ did not converge\n",
      "  warnings.warn(\n"
     ]
    },
    {
     "data": {
      "image/png": "[encoded data removed]",
      "text/plain": [
       "<Figure size 1000x600 with 1 Axes>"
      ]
     },
     "metadata": {},
     "output_type": "display_data"
    },
    {
     "name": "stdout",
     "output_type": "stream",
     "text": [
      "Best lambda value: 0.04641588833612782\n"
     ]
    }
   ],
   "source": [
    "# Plot the results\n",
    "plt.figure(figsize=(10, 6))\n",
    "plt.plot(np.log(1/logistic_cv.Cs_), mean_scores)\n",
    "plt.xlabel('log(lambda)')\n",
    "plt.ylabel('Binomial Deviance')\n",
    "plt.title('Cross-Validation Results')\n",
    "plt.grid(True)\n",
    "plt.show()\n",
    "\n",
    "# Print the best lambda value\n",
    "best_lambda = 1/logistic_cv.C_[0]\n",
    "print(f\"Best lambda value: {best_lambda}\") "
   ]
  }
 ],
 "metadata": {
  "kernelspec": {
   "display_name": "teamlambdavenv",
   "language": "python",
   "name": "python3"
  },
  "language_info": {
   "codemirror_mode": {
    "name": "ipython",
    "version": 3
   },
   "file_extension": ".py",
   "mimetype": "text/x-python",
   "name": "python",
   "nbconvert_exporter": "python",
   "pygments_lexer": "ipython3",
   "version": "3.13.3"
  }
 },
 "nbformat": 4,
 "nbformat_minor": 2
}
